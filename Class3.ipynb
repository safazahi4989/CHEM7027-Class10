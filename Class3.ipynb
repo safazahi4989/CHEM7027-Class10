{
 "cells": [
  {
   "cell_type": "markdown",
   "id": "2d0e987e",
   "metadata": {},
   "source": [
    "# CHEM7370 Class 3\n",
    "## Conditions, files, and strings, oh my!"
   ]
  },
  {
   "cell_type": "code",
   "execution_count": 6,
   "id": "3a1e6376",
   "metadata": {},
   "outputs": [],
   "source": [
    "# Here's our list once again\n",
    "energy_kcal = [-13.4, -2.7, 5.4, 42.1]"
   ]
  },
  {
   "cell_type": "markdown",
   "id": "c12d3359",
   "metadata": {},
   "source": [
    "The `append` function adds a new item to the end of an existing list. Let's use it in a `for` loop to convert the entire list of energies from kcal to kJ."
   ]
  },
  {
   "cell_type": "markdown",
   "id": "a8c11138",
   "metadata": {},
   "source": [
    "Try running this block of code. See if you can figure out why it doesn’t work. What statement do we need to add to make this code work as intended?"
   ]
  },
  {
   "cell_type": "code",
   "execution_count": 12,
   "id": "869495e7",
   "metadata": {},
   "outputs": [
    {
     "name": "stdout",
     "output_type": "stream",
     "text": [
      "[-56.0656, -11.296800000000001, 22.593600000000002, 176.1464]\n"
     ]
    }
   ],
   "source": [
    "energy_kJ = []\n",
    "for number in energy_kcal:\n",
    "   \n",
    "   kJ = number * 4.184\n",
    "   energy_kJ.append(kJ)\n",
    "\n",
    "print(energy_kJ)"
   ]
  },
  {
   "cell_type": "markdown",
   "id": "e102a2a0",
   "metadata": {},
   "source": [
    "## Making choices: logic Statements\n",
    "Within your code, you may need to evaluate a variable and then do something if the variable has a particular value. This type of logic is handled by an `if` statement. In the following example, we only append the negative numbers to a new list."
   ]
  },
  {
   "cell_type": "code",
   "execution_count": 18,
   "id": "7a28ab11",
   "metadata": {},
   "outputs": [
    {
     "name": "stdout",
     "output_type": "stream",
     "text": [
      "[-56.0656, -11.296800000000001]\n"
     ]
    }
   ],
   "source": [
    "negative_energy_kJ = []\n",
    "\n",
    "for number in energy_kJ:\n",
    "    if number < 0:\n",
    "        negative_energy_kJ.append(number)\n",
    "\n",
    "print(negative_energy_kJ)"
   ]
  },
  {
   "cell_type": "markdown",
   "id": "dbe04b68",
   "metadata": {},
   "source": [
    "Other logic operations include\n",
    "\n",
    "* equal to `==`\n",
    "* not equal to `!=`\n",
    "* greater than `>`\n",
    "* less than `<`\n",
    "* greater than or equal to `>=`\n",
    "* less than or equal to `<=`\n",
    "\n",
    "You can also use `and`, `or`, and `not` to check more than one condition.\n",
    "\n",
    "If you are comparing strings, not numbers, you use different logic operators like `is`, `in`, or `is not`. We will see these types of logic operators used soon."
   ]
  },
  {
   "cell_type": "markdown",
   "id": "737a7267",
   "metadata": {},
   "source": [
    "## Exercise\n",
    "The following list contains some floating point numbers and some numbers which have been saved as strings. "
   ]
  },
  {
   "cell_type": "code",
   "execution_count": 27,
   "id": "fc97e70d",
   "metadata": {},
   "outputs": [],
   "source": [
    "data_list = ['-12.5', 14.4, 8.1, '42']"
   ]
  },
  {
   "cell_type": "markdown",
   "id": "cc664c28",
   "metadata": {},
   "source": [
    "Set up a `for` loop to go over each element of `data_list`. If the element is a string (`str`), recast it as a float. Save *all* of the numbers to a new list called `number_list`. Pay close attention to your indentation!"
   ]
  },
  {
   "cell_type": "code",
   "execution_count": 32,
   "id": "6b61a924",
   "metadata": {},
   "outputs": [
    {
     "name": "stdout",
     "output_type": "stream",
     "text": [
      "[-12.5, -12.5, -12.5, 42.0]\n"
     ]
    }
   ],
   "source": [
    "number_list = []\n",
    "for i in data_list:\n",
    "    if type(i) is str:\n",
    "        x = float(i)\n",
    "    number_list.append(x)\n",
    "print (number_list)"
   ]
  },
  {
   "cell_type": "markdown",
   "id": "a7018479",
   "metadata": {},
   "source": [
    "The `if` statement can handle more complicated logic: we can specify what to do if the condition is satisfied *and* what other thing to do otherwise. We can even check for more conditions and finally do something entirely different if none of them are satisfied. The `if/elif/else` structure comes in handy for this purpose."
   ]
  },
  {
   "cell_type": "code",
   "execution_count": 34,
   "id": "2c7ab82f",
   "metadata": {},
   "outputs": [
    {
     "name": "stdout",
     "output_type": "stream",
     "text": [
      "I'm thinking about an animal. Its name is shark .\n"
     ]
    }
   ],
   "source": [
    "molecules = ['water','benzene','DNA']\n",
    "animals = ['dog','cat','octopus']\n",
    "animals.append('shark')\n",
    "thought = 'shark'\n",
    "if thought in molecules:\n",
    "    print(\"I'm thinking about a molecule. Its name is\",thought,\".\")\n",
    "elif thought in animals:\n",
    "    print(\"I'm thinking about an animal. Its name is\",thought,\".\")\n",
    "else:\n",
    "    print(\"I'm thinking about something. It is\",thought,\".\")"
   ]
  },
  {
   "cell_type": "markdown",
   "id": "efe6188c",
   "metadata": {},
   "source": [
    "## Combining loops and logic\n",
    "The `for` loop goes through a code block a predetermined number of times: for example, `for x in range(5):` will always execute the next code block exactly 5 times. Sometimes we want to be more nimble and decide on the fly if we want to keep doing the loop or not, by checking some condition like in an `if` statement. For this purpose, we need a `while` loop.\n",
    "\n",
    "In the following example, to count down the seconds until launch, we will import the `time` module so that we can use the `time.sleep()` command. What does it do? Yes, you guessed right! It does nothing for a given number of seconds."
   ]
  },
  {
   "cell_type": "code",
   "execution_count": 35,
   "id": "c54273aa",
   "metadata": {},
   "outputs": [
    {
     "name": "stdout",
     "output_type": "stream",
     "text": [
      "10 seconds until launch.\n",
      "9 seconds until launch.\n",
      "8 seconds until launch.\n",
      "7 seconds until launch.\n",
      "6 seconds until launch.\n",
      "5 seconds until launch.\n",
      "4 seconds until launch.\n",
      "3 seconds until launch.\n",
      "2 seconds until launch.\n",
      "1 seconds until launch.\n",
      "Launch!!!\n"
     ]
    }
   ],
   "source": [
    "import time\n",
    "t = 10\n",
    "while t>0:\n",
    "    print(t,\"seconds until launch.\")\n",
    "    t -=1\n",
    "    time.sleep(1.0)\n",
    "print(\"Launch!!!\")"
   ]
  },
  {
   "cell_type": "markdown",
   "id": "e4fc81c7",
   "metadata": {},
   "source": [
    "Want to launch earlier? No problem, we can `break` out of the `while` loop:"
   ]
  },
  {
   "cell_type": "code",
   "execution_count": null,
   "id": "6ffb5db7",
   "metadata": {},
   "outputs": [],
   "source": [
    "t = 10\n",
    "while t>0:\n",
    "    print(t,\"seconds until launch.\")\n",
    "    if t<4.0:\n",
    "        print(\"Launch accelerated!\")\n",
    "        break\n",
    "    t -=1\n",
    "    time.sleep(1.0)\n",
    "print(\"Launch!!!\")"
   ]
  },
  {
   "cell_type": "markdown",
   "id": "8aaa2f02",
   "metadata": {},
   "source": [
    "## One quirky feature of lists - be careful when copying them!\n",
    "Let's make a simple list and call it `l1`:"
   ]
  },
  {
   "cell_type": "code",
   "execution_count": null,
   "id": "ba0b495c",
   "metadata": {},
   "outputs": [],
   "source": [
    "l1 = list(range(10))\n",
    "print(l1)"
   ]
  },
  {
   "cell_type": "markdown",
   "id": "9b1e10a3",
   "metadata": {},
   "source": [
    "We will now copy the entire list to a new variable `l2` and then modify one of the elements of `l1`. Wait, what happened to `l2`?"
   ]
  },
  {
   "cell_type": "code",
   "execution_count": null,
   "id": "a0213d57",
   "metadata": {},
   "outputs": [],
   "source": [
    "l2 = l1\n",
    "l1[4] = 100\n",
    "print(l1)\n",
    "print(l2)"
   ]
  },
  {
   "cell_type": "markdown",
   "id": "f7486cc5",
   "metadata": {},
   "source": [
    "To prevent it (unwanted 99% of the time) behavior, instead of just copying a list, let's slice it all out:"
   ]
  },
  {
   "cell_type": "code",
   "execution_count": null,
   "id": "1d451f86",
   "metadata": {},
   "outputs": [],
   "source": [
    "l1 = list(range(10))\n",
    "l2 = l1[:]\n",
    "l1[4] = 100\n",
    "print(l1)\n",
    "print(l2)"
   ]
  },
  {
   "cell_type": "markdown",
   "id": "4139a2a9",
   "metadata": {},
   "source": [
    "## Working with files\n",
    "One of the most common tasks in research is analyzing data. Many computational chemistry programs output text files that include a large amount of information including text and data that you need to analyze. Often, you need to sort through the output file and identify particular pieces of information that are most important to you. In general, this is called file parsing.\n",
    "\n",
    "## Working with file paths - the os.path module\n",
    "For this section, we will be working with the file `ethanol.out` in the `outfiles` directory.\n",
    "\n",
    "To see this, go to a new cell and type `ls`. `ls` stands for ‘list’, and will list all of the contents of the current directory. This command is not a Python command, but will work in the Jupyter notebook. To see everything in the data directory, type"
   ]
  },
  {
   "cell_type": "code",
   "execution_count": null,
   "id": "8e66ae44",
   "metadata": {},
   "outputs": [],
   "source": [
    "ls data"
   ]
  },
  {
   "cell_type": "markdown",
   "id": "933e590e",
   "metadata": {},
   "source": [
    "In order to parse a file, you must tell Python the location of the file, or the “file path”. For example, you can see what folder your Jupyter notebook is in by typing `pwd` into a cell in your notebook and evaluating it. `pwd` stands for ‘print working directory’, and can also be used in your terminal to see what directory you’re in."
   ]
  },
  {
   "cell_type": "code",
   "execution_count": null,
   "id": "4d960da9",
   "metadata": {},
   "outputs": [],
   "source": [
    "pwd"
   ]
  },
  {
   "cell_type": "markdown",
   "id": "41e55ba2",
   "metadata": {},
   "source": [
    "Notice that the file paths are different for different operating systems. The Windows system uses a backslash (`\\`), while Mac and Linux use a forward slash (`/`) for filepaths.\n",
    "\n",
    "When we write a script, we want it to be usable on any operating system, thus we will use a python module called `os.path` that will allow us to define file paths in a general way.\n",
    "\n",
    "In order to get the path to the `ethanol.out` file in a general way, type"
   ]
  },
  {
   "cell_type": "code",
   "execution_count": null,
   "id": "4d27762f",
   "metadata": {},
   "outputs": [],
   "source": [
    "import os\n",
    "\n",
    "ethanol_file = os.path.join('data', 'outfiles', 'ethanol.out')\n",
    "print(ethanol_file)"
   ]
  },
  {
   "cell_type": "markdown",
   "id": "7e172220",
   "metadata": {},
   "source": [
    "## Reading a file\n",
    "In Python, there are many ways in python to read in information from a text file. The best method to use depends on the type of data and the type of analysis you are performing. If you have a file with lots of different types of information, text and numbers, with different types of formatting, the most generic way to read in information is the `readlines()` function. Before you can read in a file, you have to open the file using the file path we defined above. This will create a file object, or filehandle. The file we will be analyzing in this example is a PSI4 output file for a SCF/cc-pVDZ energy calculation for an ethanol molecule."
   ]
  },
  {
   "cell_type": "code",
   "execution_count": null,
   "id": "e9a6a1ee",
   "metadata": {},
   "outputs": [],
   "source": [
    "outfile = open(ethanol_file,\"r\")\n",
    "data = outfile.readlines()\n"
   ]
  },
  {
   "cell_type": "markdown",
   "id": "0c2a3958",
   "metadata": {},
   "source": [
    "This code opens a file for reading and assigns it to the filehandle `outfile`. The `r` argument in the function stands for read. Other arguments might be `w` for write if we want to write new information to the file, or `a` for append if we want to add new information at the end of the file.\n",
    "\n",
    "In the next line, we use the `readlines()` function to get our file as a list of strings. Notice the dot notation introduced last lesson; readlines acts on the file object given right before the dot. The function creates a list called `data` where each element of the list is a string that is one line of the file. This is always how the `readlines()` function works.\n",
    "\n",
    "Note that the `readlines()` function can only be used on a file object one time. If you forget to set `outfile.readlines()` equal to a variable, you must open the file again in order to get the contents of the file.\n",
    "\n",
    "After you open and read information from a file object, you should always close the file."
   ]
  },
  {
   "cell_type": "code",
   "execution_count": null,
   "id": "e888b6c5",
   "metadata": {},
   "outputs": [],
   "source": [
    "outfile.close()"
   ]
  },
  {
   "cell_type": "markdown",
   "id": "2c7906db",
   "metadata": {},
   "source": [
    "## Exercise\n",
    "Check that your file was read in correctly by determining how many lines are in the file."
   ]
  },
  {
   "cell_type": "code",
   "execution_count": null,
   "id": "9c50e05f",
   "metadata": {},
   "outputs": [],
   "source": []
  },
  {
   "cell_type": "markdown",
   "id": "fd5bf7b7",
   "metadata": {},
   "source": [
    "## Searching for a pattern in your file\n",
    "The file we opened is an output file which calculates the energy (and a lot of other stuff!) for an ethanol molecule. As stated previously, the `readlines()` function put the file contents into a list where each element is a line of the file. You may remember from the previous lesson that a `for` loops can be used to execute the same code repeatedly. As we learned in the previous lesson, we can use a `for` loop to iterate through elements in a list.\n",
    "\n",
    "Let’s take a look at what’s in the file."
   ]
  },
  {
   "cell_type": "code",
   "execution_count": null,
   "id": "37d0d91b",
   "metadata": {},
   "outputs": [],
   "source": [
    "for line in data:\n",
    "    print(line)"
   ]
  },
  {
   "cell_type": "markdown",
   "id": "7cd5e2ad",
   "metadata": {},
   "source": [
    "This will print exactly what is in the file.\n",
    "\n",
    "If you look through the output, you will see that the critical line says “Final Energy”. We want to search through this file and find that line, and print only that line. We can do this using an `if` statement.\n",
    "\n",
    "Returning to our file example,"
   ]
  },
  {
   "cell_type": "code",
   "execution_count": null,
   "id": "562571e2",
   "metadata": {},
   "outputs": [],
   "source": [
    "for line in data:\n",
    "    if 'Final Energy' in line:\n",
    "        energy_line = line\n",
    "        print(energy_line)"
   ]
  },
  {
   "cell_type": "markdown",
   "id": "91a6055d",
   "metadata": {},
   "source": [
    "Remember that `readlines()` saves each line of the file as a string, so `energy_line` is a string that contains the whole line. For our analysis, if we are most interested in the energy, we need to split up the line so we can save just the number as a different variable name. To do this, we use a new function called `split`. The `split` function takes a string and divides it into its components using a delimiter.\n",
    "\n",
    "The delimiter is specified as an argument to the function (put in the parenthesis `()`). If you do not specify a delimiter, a space is used by default. Let’s try this out."
   ]
  },
  {
   "cell_type": "code",
   "execution_count": null,
   "id": "a9ca3982",
   "metadata": {},
   "outputs": [],
   "source": [
    "energy_line.split()"
   ]
  },
  {
   "cell_type": "markdown",
   "id": "79e1652a",
   "metadata": {},
   "source": [
    "Or, we can use the colon (‘:’) as the delimiter."
   ]
  },
  {
   "cell_type": "code",
   "execution_count": null,
   "id": "226342ce",
   "metadata": {},
   "outputs": [],
   "source": [
    "energy_line.split(':')"
   ]
  },
  {
   "cell_type": "markdown",
   "id": "3c99d6b1",
   "metadata": {},
   "source": [
    "When we use ‘:’ as the delimiter, a list with two elements is returned. It is split where a colon was found.\n",
    "\n",
    "We can save the output of this function to a variable as a new list. In the example below, we take the line we found in the `for` loop and split it up into its individual words."
   ]
  },
  {
   "cell_type": "code",
   "execution_count": null,
   "id": "afea4abb",
   "metadata": {},
   "outputs": [],
   "source": [
    "words = energy_line.split()\n",
    "print(words)"
   ]
  },
  {
   "cell_type": "markdown",
   "id": "b16168a1",
   "metadata": {},
   "source": [
    "From this `print` statement, we now see that we have a list called words, where we have split `energy_line`. The energy is actually the fourth element of this list, so we can now save it as a new variable."
   ]
  },
  {
   "cell_type": "code",
   "execution_count": null,
   "id": "3e11925e",
   "metadata": {},
   "outputs": [],
   "source": [
    "energy = words[-1]\n",
    "print(energy)"
   ]
  },
  {
   "cell_type": "markdown",
   "id": "5a25ce99",
   "metadata": {},
   "source": [
    "If we now try to do a math operation on energy, we get an error message? Why do you think that is?"
   ]
  },
  {
   "cell_type": "code",
   "execution_count": null,
   "id": "9d037ee0",
   "metadata": {},
   "outputs": [],
   "source": [
    "energy + 50"
   ]
  },
  {
   "cell_type": "markdown",
   "id": "6ddbffab",
   "metadata": {},
   "source": [
    "Try to change the definition of `energy` so that you can add to that number."
   ]
  },
  {
   "cell_type": "markdown",
   "id": "7a95ce91",
   "metadata": {},
   "source": [
    "## Exercise on File Parsing\n",
    "Use the provided `sapt.out` file. In this output file, the program calculates the interaction energy for an ethene-ethyne complex. The output reports four interaction energy components: electrostatics, induction, exchange, and dispersion. Parse each of these energies, in kcal/mole, from the output file. (Hint: study the file in a text editor to help you decide what to search for.) Calculate the total interaction energy by adding the four components together. Your code’s output should look something like this:\n",
    "\n",
    "`Electrostatics : -2.25850118 kcal/mol`\n",
    "\n",
    "`Exchange : 2.27730198 kcal/mol`\n",
    "\n",
    "`Induction : -0.5216933 kcal/mol`\n",
    "\n",
    "`Dispersion : -0.9446677 kcal/mol`\n",
    "\n",
    "`Total Energy : 1.4475602000000003 kcal/mol`"
   ]
  },
  {
   "cell_type": "code",
   "execution_count": null,
   "id": "bf8f31ad",
   "metadata": {},
   "outputs": [],
   "source": []
  },
  {
   "cell_type": "markdown",
   "id": "473d9322",
   "metadata": {},
   "source": [
    "## Searching for a particular line number in your file\n",
    "There is a lot of other information in the output file we might be interested in. For example, we might want to pull out the initial coordinates for the molecule. If we look through the file in a text editor, we notice that the coordinates begin with a line that says\n",
    "\n",
    "Center X Y Z Mass\n",
    "\n",
    "and then the coordinates begin on the next line. In this case, we don’t want to pull something out of this line, as we did in our previous example, but we want to know which line of the file this is so that we can then pull the coordinates from the next few lines.\n",
    "\n",
    "When you use a `for` loop, it is easy to have python keep up with the line numbers using the `enumerate` command. The general syntax is\n",
    "\n",
    "`for linenum, line in enumerate(list_name):`\n",
    "\n",
    "`    do things in the loop`\n",
    "\n",
    "In this notation, there are now two variables you can use in your loop commands, `linenum` (which can be named something else) will keep up with what iteration you are on in the loop, in this case what line you are on in the file. The variable `line` (which could be named something else) functions exactly as it did before, holding the actual information from the list. Finally, instead of just giving the list name you use `enumerate(list_name)`.\n",
    "\n",
    "This block of code searches our file for the line that contains “Center” and reports the line number."
   ]
  },
  {
   "cell_type": "code",
   "execution_count": null,
   "id": "b55d54cf",
   "metadata": {},
   "outputs": [],
   "source": [
    "for linenum, line in enumerate(data):\n",
    "    if 'Center' in line:\n",
    "        print(linenum)\n",
    "        print(line)"
   ]
  },
  {
   "cell_type": "markdown",
   "id": "f2f72e1c",
   "metadata": {},
   "source": [
    "Now we know that this is line 77 in our file (remember that you start counting at zero!).\n",
    "\n",
    "## Check Your Understanding\n",
    "\n",
    "What would be printed if you entered the following:"
   ]
  },
  {
   "cell_type": "code",
   "execution_count": null,
   "id": "fa04b01f",
   "metadata": {},
   "outputs": [],
   "source": [
    "print(data[77])\n",
    "print(data[78])\n",
    "print(data[79])\n",
    "print(data[80])\n",
    "print(data[81])"
   ]
  },
  {
   "cell_type": "markdown",
   "id": "04da1583",
   "metadata": {},
   "source": [
    "# Advanced string operations\n",
    "## Is this reaction balanced?\n",
    "Here's the combustion reaction for ethanol, given as a string variable. Can we process the string and find out if this reaction is balanced?"
   ]
  },
  {
   "cell_type": "code",
   "execution_count": null,
   "id": "5463cd23",
   "metadata": {},
   "outputs": [],
   "source": [
    "reaction = 'C2H5OH + 3O2 -> 2CO2 + 3H2O'"
   ]
  },
  {
   "cell_type": "markdown",
   "id": "d27aa6d3",
   "metadata": {},
   "source": [
    "This does not look like a simple task, but we will try to break it apart into a sequence of easier steps. First, it would be nice to parse the string to identify a list of `reactants` and a list of `products`. The `split` method will come in handy. Can you make these two lists?"
   ]
  },
  {
   "cell_type": "code",
   "execution_count": null,
   "id": "b980943e",
   "metadata": {},
   "outputs": [],
   "source": []
  },
  {
   "cell_type": "markdown",
   "id": "dd2b0517",
   "metadata": {},
   "source": [
    "Let's now pick one of the molecule from the list of `reactants` or `products`. The first question we might want to answer is: do we have one molecule of that type, or is there a stoichiometric coefficient in front of it? Write the code that will find the integer `coefficient` for this molecule. The code has to be aware that, if a specific number is not given, the `coefficient` is 1.\n",
    "\n",
    "You can do a lot of the same things with strings as you do with lists; in particular, you can slice them with the same `[m:n]` operator, and you can iterate over them: `for x in string_variable:` will run over the individual characters in a string, one at a time. For a single character `x`, you have some functions to find out what character it is:\n",
    "\n",
    "* x.isdigit() will be `True` if the character `x` is a digit (0,...,9) and `False` otherwise.\n",
    "* x.isupper() will be `True` if the character `x` is an uppercase letter and `False` otherwise.\n",
    "* x.islower() will be `True` if the character `x` is an lowercase letter and `False` otherwise."
   ]
  },
  {
   "cell_type": "code",
   "execution_count": null,
   "id": "32de77c0",
   "metadata": {},
   "outputs": [],
   "source": []
  },
  {
   "cell_type": "markdown",
   "id": "e7b222ec",
   "metadata": {},
   "source": [
    "How to store the information about the atoms found and their numbers? I suggest creating a *dictionary*, which is a data type similar to a list but indexed by their descriptions (keys) instead of numbers. Dictionaries are denoted by curly brackets `{}`.\n",
    "\n",
    "This example code first creates an empty dictionary `atomic_masses` and then adds a couple atomic masses to it, indexed by the element symbol."
   ]
  },
  {
   "cell_type": "code",
   "execution_count": null,
   "id": "93e681df",
   "metadata": {},
   "outputs": [],
   "source": [
    "atomic_masses = {}\n",
    "atomic_masses['H'] = 1\n",
    "atomic_masses['He'] = 4\n",
    "atomic_masses['C'] = 12\n",
    "atomic_masses['O'] = 16\n",
    "print(atomic_masses)"
   ]
  },
  {
   "cell_type": "markdown",
   "id": "a817fff0",
   "metadata": {},
   "source": [
    "Adding new entries to a dictionary can be a little tricky, especially if we use the dictionary to count atoms: if we just set the entry to a new value, we forget the previous number of atoms of this kind instead of adding to it. Therefore, before modifying a dictionary entry, it's good to check if the entry already exists. The easiest way to do so is finding out if the entry is `in` the list of keys for the dictionary:"
   ]
  },
  {
   "cell_type": "code",
   "execution_count": null,
   "id": "818c7efb",
   "metadata": {},
   "outputs": [],
   "source": [
    "print(atomic_masses.keys())"
   ]
  },
  {
   "cell_type": "markdown",
   "id": "6d8b51ed",
   "metadata": {},
   "source": [
    "The result of `dictionary.keys()` is, as you see, not strictly a list, but works like a list for practical purposes (and can be converted to a list). *Note: Python does not guarantee that the list of keys will be ordered in any specific way.*"
   ]
  },
  {
   "cell_type": "code",
   "execution_count": null,
   "id": "accb5587",
   "metadata": {},
   "outputs": [],
   "source": [
    "print(list(atomic_masses.keys()))"
   ]
  },
  {
   "cell_type": "markdown",
   "id": "5a88948e",
   "metadata": {},
   "source": [
    "Let's now go back to our problem of counting atoms in a molecule. You have a string `molecule` that contains its formula (with no stoichiometric coefficient left in front of it, assume that if we found a coefficient, we cut it out). Your task is to extract a dictionary `atoms` that contains the number of atoms of each type. For example, if `molecule = \"C2H5OH\"`, the resulting dictionary should be `atoms = {'H' : 6, 'C' : 2, 'O' : 1}`."
   ]
  },
  {
   "cell_type": "code",
   "execution_count": null,
   "id": "62cdc68c",
   "metadata": {},
   "outputs": [],
   "source": []
  },
  {
   "cell_type": "markdown",
   "id": "8ddfa8f1",
   "metadata": {},
   "source": [
    "Now that you counted atoms in one molecule, can you count them in all the reactant molecules (multiplying the count by each stoichiometric coefficient)? Make sure that you don't lose atoms that are in one reactant molecule but not the other(s). Make dictionaries `allreactants` and `allproducts` listing the number of atoms of each type in *all* reactant/product molecules together."
   ]
  },
  {
   "cell_type": "code",
   "execution_count": null,
   "id": "e0f4142b",
   "metadata": {},
   "outputs": [],
   "source": []
  },
  {
   "cell_type": "markdown",
   "id": "b559845b",
   "metadata": {},
   "source": [
    "We got to the last step! Are the numbers of atoms of each type in reactants and products the same? If they are the same for all atom types, the reaction is balanced!"
   ]
  },
  {
   "cell_type": "code",
   "execution_count": null,
   "id": "9cab8173",
   "metadata": {},
   "outputs": [],
   "source": []
  }
 ],
 "metadata": {
  "kernelspec": {
   "display_name": "Python 3 (ipykernel)",
   "language": "python",
   "name": "python3"
  },
  "language_info": {
   "codemirror_mode": {
    "name": "ipython",
    "version": 3
   },
   "file_extension": ".py",
   "mimetype": "text/x-python",
   "name": "python",
   "nbconvert_exporter": "python",
   "pygments_lexer": "ipython3",
   "version": "3.9.15"
  }
 },
 "nbformat": 4,
 "nbformat_minor": 5
}
